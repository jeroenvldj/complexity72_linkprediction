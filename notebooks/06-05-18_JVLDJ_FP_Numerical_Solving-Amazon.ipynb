{
 "cells": [
  {
   "cell_type": "markdown",
   "metadata": {},
   "source": [
    "Load some packages "
   ]
  },
  {
   "cell_type": "code",
   "execution_count": 1,
   "metadata": {
    "collapsed": true
   },
   "outputs": [],
   "source": [
    "%run preample.ipy"
   ]
  },
  {
   "cell_type": "markdown",
   "metadata": {},
   "source": [
    "Import specific functions "
   ]
  },
  {
   "cell_type": "code",
   "execution_count": 2,
   "metadata": {
    "collapsed": true
   },
   "outputs": [],
   "source": [
    "from Utilities import *\n",
    "from BiCM import *"
   ]
  },
  {
   "cell_type": "markdown",
   "metadata": {},
   "source": [
    "# Numerical Solving BiCM\n",
    "    - Get degree sequences\n",
    "    - run numerical simulation to solve system\n",
    "    - calculate the link probabilities\n",
    "    "
   ]
  },
  {
   "cell_type": "code",
   "execution_count": 3,
   "metadata": {
    "collapsed": true
   },
   "outputs": [],
   "source": [
    "def get_degree_sequences(M_hat):\n",
    "    \n",
    "    degree_sequence_item = np.sum(M_hat,1)\n",
    "    degree_sequence_product = np.sum(M_hat,0)\n",
    "    degree_sequence = list(np.concatenate([degree_sequence_item, degree_sequence_product]))\n",
    "    n_rows = len(degree_sequence_item)\n",
    "    n_cols = len(degree_sequence_product)\n",
    "    return degree_sequence, n_rows, n_cols"
   ]
  },
  {
   "cell_type": "code",
   "execution_count": 4,
   "metadata": {
    "collapsed": true
   },
   "outputs": [],
   "source": [
    "def get_link_probabilities(M):\n",
    "    [degree_sequence, n_rows, n_cols] = get_degree_sequences(M)\n",
    "    bicm = bicm_leastSquares(degree_sequence, n_rows, n_cols)\n",
    "    bicm.solve_root()\n",
    "    bicm.generate_p_adjacency()\n",
    "    return bicm.p_adjacency, np.sum(bicm.final_result)"
   ]
  },
  {
   "cell_type": "markdown",
   "metadata": {},
   "source": [
    "# Load Amazon Adjacency"
   ]
  },
  {
   "cell_type": "code",
   "execution_count": 5,
   "metadata": {
    "collapsed": true
   },
   "outputs": [],
   "source": [
    "import scipy.sparse\n",
    "#sparse_matrix = scipy.sparse.load_npz('../data/raw/amazon_adjacency_unweighted/amazon_video_games.npz')\n",
    "sparse_matrix = scipy.sparse.load_npz('../data/raw/amazon_music_adjacency_unweighted/amazon_music_instruments.npz')"
   ]
  },
  {
   "cell_type": "code",
   "execution_count": 6,
   "metadata": {},
   "outputs": [
    {
     "data": {
      "text/plain": [
       "(339231, 83046)"
      ]
     },
     "execution_count": 6,
     "metadata": {},
     "output_type": "execute_result"
    }
   ],
   "source": [
    "sparse_matrix.shape"
   ]
  },
  {
   "cell_type": "markdown",
   "metadata": {},
   "source": [
    "Degree sequences"
   ]
  },
  {
   "cell_type": "code",
   "execution_count": 7,
   "metadata": {
    "collapsed": true
   },
   "outputs": [],
   "source": [
    "M_hat = sparse_matrix.copy()\n",
    "degree_sequence_item = np.sum(M_hat,1)\n",
    "degree_sequence_product = np.transpose(np.sum(M_hat,0))\n",
    "degree_sequence = list(np.concatenate([degree_sequence_item, degree_sequence_product]))\n",
    "n_rows = len(degree_sequence_item)\n",
    "n_cols = len(degree_sequence_product)"
   ]
  },
  {
   "cell_type": "code",
   "execution_count": 8,
   "metadata": {},
   "outputs": [
    {
     "data": {
      "text/plain": [
       "422277"
      ]
     },
     "execution_count": 8,
     "metadata": {},
     "output_type": "execute_result"
    }
   ],
   "source": [
    "len(degree_sequence)"
   ]
  },
  {
   "cell_type": "code",
   "execution_count": 9,
   "metadata": {
    "collapsed": true
   },
   "outputs": [],
   "source": [
    "bicm = bicm_leastSquares(degree_sequence, n_rows, n_cols)"
   ]
  },
  {
   "cell_type": "code",
   "execution_count": 10,
   "metadata": {},
   "outputs": [
    {
     "data": {
      "text/plain": [
       "339231"
      ]
     },
     "execution_count": 10,
     "metadata": {},
     "output_type": "execute_result"
    }
   ],
   "source": [
    "bicm.n_rows"
   ]
  },
  {
   "cell_type": "code",
   "execution_count": 11,
   "metadata": {},
   "outputs": [
    {
     "data": {
      "text/plain": [
       "83046"
      ]
     },
     "execution_count": 11,
     "metadata": {},
     "output_type": "execute_result"
    }
   ],
   "source": [
    "bicm.n_cols"
   ]
  },
  {
   "cell_type": "code",
   "execution_count": 12,
   "metadata": {},
   "outputs": [
    {
     "name": "stdout",
     "output_type": "stream",
     "text": [
      "(433,)\n"
     ]
    }
   ],
   "source": [
    "bicm.solve_least_squares()"
   ]
  },
  {
   "cell_type": "code",
   "execution_count": 17,
   "metadata": {},
   "outputs": [
    {
     "name": "stderr",
     "output_type": "stream",
     "text": [
      "../src/BiCM.py:243: FutureWarning: elementwise comparison failed; returning scalar instead, but in the future will perform elementwise comparison\n",
      "  elif initial_guess == 'random':\n"
     ]
    }
   ],
   "source": [
    "x0_2 = np.concatenate([np.unique(bicm.x), np.unique(bicm.y)])\n",
    "bicm.solve_least_squares(initial_guess=x0_2)"
   ]
  },
  {
   "cell_type": "code",
   "execution_count": 18,
   "metadata": {},
   "outputs": [
    {
     "data": {
      "text/plain": [
       "array([-9.99722221e-01, -1.99888892e+00, -2.99750022e+00, -3.99555632e+00,\n",
       "       -4.99305750e+00, -5.99000412e+00, -6.98639660e+00, -7.98223547e+00,\n",
       "       -8.97752132e+00, -9.97225481e+00, -1.09664367e+01, -1.19600678e+01,\n",
       "       -1.29531489e+01, -1.39456812e+01, -1.49376655e+01, -1.59291031e+01,\n",
       "       -1.69199950e+01, -1.79103426e+01, -1.89001471e+01, -1.98894100e+01,\n",
       "       -2.08781326e+01, -2.18663165e+01, -2.28539632e+01, -2.38410743e+01,\n",
       "       -2.48276516e+01, -2.58136968e+01, -2.67992116e+01, -2.77841979e+01,\n",
       "       -2.87686575e+01, -2.97525926e+01, -3.07360049e+01, -3.17188965e+01,\n",
       "       -3.27012695e+01, -3.36831261e+01, -3.46644683e+01, -3.56452983e+01,\n",
       "       -3.66256184e+01, -3.76054308e+01, -3.85847378e+01, -3.95635416e+01,\n",
       "       -4.05418447e+01, -4.15196494e+01, -4.24969580e+01, -4.34737730e+01,\n",
       "       -4.54259319e+01, -4.64012805e+01, -4.73761454e+01, -4.83505288e+01,\n",
       "       -4.93244334e+01, -5.02978616e+01, -5.12708159e+01, -5.22432988e+01,\n",
       "       -5.41868605e+01, -5.51579443e+01, -5.70987305e+01, -5.80684379e+01,\n",
       "       -5.90376914e+01, -6.00064937e+01, -6.09748472e+01, -6.19427543e+01,\n",
       "       -6.29102176e+01, -6.58099690e+01, -6.77409623e+01, -6.96702386e+01,\n",
       "       -7.06342388e+01, -7.44860417e+01, -7.54479544e+01, -8.02514034e+01,\n",
       "       -8.21699704e+01, -8.40869560e+01, -8.69595055e+01, -9.17394123e+01,\n",
       "       -9.46028365e+01, -9.65099338e+01, -9.84155664e+01, -1.03173331e+02,\n",
       "       -1.05073945e+02, -1.06973155e+02, -1.09819365e+02, -1.10767413e+02,\n",
       "       -1.14556201e+02, -1.22117736e+02, -1.30599602e+02, -1.48423094e+02,\n",
       "       -4.18599505e+02, -4.26450070e+02, -4.43853678e+02, -9.99989611e-01,\n",
       "       -1.99995844e+00, -2.99990650e+00, -3.99983377e+00, -4.99974027e+00,\n",
       "       -5.99962599e+00, -6.99949094e+00, -7.99933511e+00, -8.99915850e+00,\n",
       "       -9.99896111e+00, -1.09987429e+01, -1.19985040e+01, -1.29982443e+01,\n",
       "       -1.39979638e+01, -1.49976626e+01, -1.59973405e+01, -1.69969977e+01,\n",
       "       -1.79966342e+01, -1.89962498e+01, -1.99958447e+01, -2.09954189e+01,\n",
       "       -2.19949722e+01, -2.29945048e+01, -2.39940166e+01, -2.49935077e+01,\n",
       "       -2.59929780e+01, -2.69924276e+01, -2.79918564e+01, -2.89912644e+01,\n",
       "       -2.99906517e+01, -3.09900182e+01, -3.19893640e+01, -3.29886890e+01,\n",
       "       -3.39879933e+01, -3.49872768e+01, -3.59865396e+01, -3.69857817e+01,\n",
       "       -3.79850030e+01, -3.89842036e+01, -3.99833834e+01, -4.09825425e+01,\n",
       "       -4.19816809e+01, -4.29807985e+01, -4.39798954e+01, -4.49789716e+01,\n",
       "       -4.59780271e+01, -4.69770618e+01, -4.79760759e+01, -4.89750692e+01,\n",
       "       -4.99740418e+01, -5.09729937e+01, -5.19719249e+01, -5.29708354e+01,\n",
       "       -5.39697252e+01, -5.49685943e+01, -5.59674427e+01, -5.69662704e+01,\n",
       "       -5.79650774e+01, -5.89638638e+01, -5.99626294e+01, -6.09613744e+01,\n",
       "       -6.19600987e+01, -6.29588024e+01, -6.39574853e+01, -6.49561477e+01,\n",
       "       -6.59547893e+01, -6.69534103e+01, -6.79520106e+01, -6.89505903e+01,\n",
       "       -6.99491494e+01, -7.09476878e+01, -7.19462055e+01, -7.29447026e+01,\n",
       "       -7.39431791e+01, -7.49416350e+01, -7.59400703e+01, -7.69384849e+01,\n",
       "       -7.79368789e+01, -7.89352523e+01, -7.99336051e+01, -8.09319373e+01,\n",
       "       -8.19302489e+01, -8.29285400e+01, -8.39268104e+01, -8.49250602e+01,\n",
       "       -8.59232895e+01, -8.69214982e+01, -8.79196863e+01, -8.89178539e+01,\n",
       "       -8.99160009e+01, -9.09141274e+01, -9.19122333e+01, -9.29103186e+01,\n",
       "       -9.39083834e+01, -9.49064277e+01, -9.59044515e+01, -9.69024547e+01,\n",
       "       -9.79004374e+01, -9.88983996e+01, -9.98963413e+01, -1.00894262e+02,\n",
       "       -1.01892163e+02, -1.02890043e+02, -1.03887903e+02, -1.04885742e+02,\n",
       "       -1.05883561e+02, -1.06881359e+02, -1.07879137e+02, -1.08876895e+02,\n",
       "       -1.09874631e+02, -1.10872348e+02, -1.11870044e+02, -1.12867720e+02,\n",
       "       -1.13865375e+02, -1.14863009e+02, -1.15860624e+02, -1.16858218e+02,\n",
       "       -1.17855791e+02, -1.18853344e+02, -1.19850877e+02, -1.20848389e+02,\n",
       "       -1.21845881e+02, -1.22843353e+02, -1.23840804e+02, -1.24838235e+02,\n",
       "       -1.25835645e+02, -1.26833036e+02, -1.27830405e+02, -1.28827755e+02,\n",
       "       -1.29825084e+02, -1.30822393e+02, -1.31819682e+02, -1.32816950e+02,\n",
       "       -1.33814198e+02, -1.34811425e+02, -1.35808633e+02, -1.36805820e+02,\n",
       "       -1.37802987e+02, -1.38800133e+02, -1.39797259e+02, -1.40794365e+02,\n",
       "       -1.41791451e+02, -1.42788517e+02, -1.43785562e+02, -1.44782587e+02,\n",
       "       -1.45779592e+02, -1.46776577e+02, -1.47773541e+02, -1.48770486e+02,\n",
       "       -1.49767410e+02, -1.50764314e+02, -1.51761197e+02, -1.52758061e+02,\n",
       "       -1.53754905e+02, -1.54751728e+02, -1.55748531e+02, -1.56745314e+02,\n",
       "       -1.57742077e+02, -1.58738820e+02, -1.60732245e+02, -1.61728928e+02,\n",
       "       -1.62725590e+02, -1.63722233e+02, -1.64718855e+02, -1.65715457e+02,\n",
       "       -1.66712040e+02, -1.67708602e+02, -1.68705144e+02, -1.69701666e+02,\n",
       "       -1.70698168e+02, -1.71694650e+02, -1.72691113e+02, -1.73687555e+02,\n",
       "       -1.74683977e+02, -1.75680379e+02, -1.76676761e+02, -1.77673124e+02,\n",
       "       -1.78669466e+02, -1.81658373e+02, -1.82654636e+02, -1.83650879e+02,\n",
       "       -1.84647102e+02, -1.85643305e+02, -1.86639488e+02, -1.87635651e+02,\n",
       "       -1.88631794e+02, -1.91620106e+02, -1.92616170e+02, -1.93612214e+02,\n",
       "       -1.94608238e+02, -1.95604243e+02, -1.98592138e+02, -1.99588064e+02,\n",
       "       -2.01579856e+02, -2.02575722e+02, -2.03571569e+02, -2.04567396e+02,\n",
       "       -2.05563203e+02, -2.06558991e+02, -2.07554759e+02, -2.08550507e+02,\n",
       "       -2.13528954e+02, -2.14524584e+02, -2.17511358e+02, -2.18506910e+02,\n",
       "       -2.20497956e+02, -2.21493450e+02, -2.22488924e+02, -2.24479813e+02,\n",
       "       -2.25475229e+02, -2.26470625e+02, -2.27466001e+02, -2.28461358e+02,\n",
       "       -2.29456696e+02, -2.30452014e+02, -2.31447313e+02, -2.32442592e+02,\n",
       "       -2.33437852e+02, -2.34433092e+02, -2.35428313e+02, -2.37418697e+02,\n",
       "       -2.38413860e+02, -2.39409004e+02, -2.40404128e+02, -2.41399233e+02,\n",
       "       -2.42394319e+02, -2.43389385e+02, -2.44384432e+02, -2.45379460e+02,\n",
       "       -2.46374469e+02, -2.47369458e+02, -2.48364428e+02, -2.49359378e+02,\n",
       "       -2.50354310e+02, -2.51349222e+02, -2.52344115e+02, -2.53338989e+02,\n",
       "       -2.54333844e+02, -2.57318293e+02, -2.58313071e+02, -2.60302569e+02,\n",
       "       -2.63286674e+02, -2.64281338e+02, -2.65275982e+02, -2.66270607e+02,\n",
       "       -2.67265213e+02, -2.68259801e+02, -2.69254369e+02, -2.70248918e+02,\n",
       "       -2.74226925e+02, -2.76215814e+02, -2.77210231e+02, -2.79199007e+02,\n",
       "       -2.82182029e+02, -2.83176332e+02, -2.85164882e+02, -2.88147565e+02,\n",
       "       -2.89141755e+02, -2.93118328e+02, -2.95106501e+02, -3.01070574e+02,\n",
       "       -3.03058449e+02, -3.04052359e+02, -3.05046250e+02, -3.06040122e+02,\n",
       "       -3.07033976e+02, -3.08027811e+02, -3.12002966e+02, -3.12996709e+02,\n",
       "       -3.18958775e+02, -3.19952389e+02, -3.20945983e+02, -3.22933118e+02,\n",
       "       -3.25913681e+02, -3.26907166e+02, -3.28894080e+02, -3.29887509e+02,\n",
       "       -3.32867688e+02, -3.33861045e+02, -3.34854383e+02, -3.35847703e+02,\n",
       "       -3.37834288e+02, -3.40814029e+02, -3.45779901e+02, -3.48759206e+02,\n",
       "       -3.50745320e+02, -3.51738349e+02, -3.52731361e+02, -3.55710287e+02,\n",
       "       -3.58689052e+02, -3.60674805e+02, -3.77550820e+02, -3.87475490e+02,\n",
       "       -3.94421711e+02, -3.97398399e+02, -3.98390593e+02, -3.99382770e+02,\n",
       "       -4.07319558e+02, -4.09303581e+02, -4.12279485e+02, -4.13271418e+02,\n",
       "       -4.16247115e+02, -4.21206263e+02, -4.31123271e+02, -4.39055645e+02,\n",
       "       -4.53925916e+02, -4.57890680e+02, -4.60864077e+02, -4.62846257e+02,\n",
       "       -4.65819403e+02, -4.78701298e+02, -4.79692097e+02, -5.01485499e+02,\n",
       "       -5.04456712e+02, -5.16340099e+02, -5.18320437e+02, -5.52965957e+02,\n",
       "       -5.93526095e+02, -6.01437221e+02, -6.18245100e+02, -6.30106830e+02,\n",
       "       -6.31095209e+02, -6.46907216e+02, -6.49871538e+02, -6.53823757e+02,\n",
       "       -6.69630243e+02, -6.89383002e+02, -6.99257168e+02, -7.18014046e+02,\n",
       "       -7.39725972e+02, -7.41699436e+02, -7.44659524e+02, -7.51565892e+02,\n",
       "       -7.73267042e+02, -7.91017390e+02, -8.03834226e+02, -8.10734609e+02,\n",
       "       -9.33840558e+02, -1.05574978e+03, -1.17941270e+03, -1.20490398e+03,\n",
       "       -1.27251018e+03, -1.40264489e+03, -1.58131939e+03, -2.23367716e+03,\n",
       "       -3.43018859e+03])"
      ]
     },
     "execution_count": 18,
     "metadata": {},
     "output_type": "execute_result"
    }
   ],
   "source": [
    "bicm.final_result"
   ]
  },
  {
   "cell_type": "code",
   "execution_count": 13,
   "metadata": {},
   "outputs": [
    {
     "data": {
      "text/plain": [
       "433"
      ]
     },
     "execution_count": 13,
     "metadata": {},
     "output_type": "execute_result"
    }
   ],
   "source": [
    "len(bicm.final_result)"
   ]
  },
  {
   "cell_type": "code",
   "execution_count": 14,
   "metadata": {},
   "outputs": [
    {
     "data": {
      "text/plain": [
       "339231"
      ]
     },
     "execution_count": 14,
     "metadata": {},
     "output_type": "execute_result"
    }
   ],
   "source": [
    "len(bicm.x)"
   ]
  },
  {
   "cell_type": "code",
   "execution_count": 15,
   "metadata": {},
   "outputs": [
    {
     "data": {
      "text/plain": [
       "83046"
      ]
     },
     "execution_count": 15,
     "metadata": {},
     "output_type": "execute_result"
    }
   ],
   "source": [
    "len(bicm.y)"
   ]
  },
  {
   "cell_type": "code",
   "execution_count": 16,
   "metadata": {},
   "outputs": [
    {
     "data": {
      "text/plain": [
       "422277"
      ]
     },
     "execution_count": 16,
     "metadata": {},
     "output_type": "execute_result"
    }
   ],
   "source": [
    "len(np.concatenate([bicm.x, bicm.y]))"
   ]
  },
  {
   "cell_type": "code",
   "execution_count": null,
   "metadata": {
    "collapsed": true
   },
   "outputs": [],
   "source": [
    "deg"
   ]
  },
  {
   "cell_type": "code",
   "execution_count": null,
   "metadata": {
    "collapsed": true
   },
   "outputs": [],
   "source": []
  },
  {
   "cell_type": "code",
   "execution_count": null,
   "metadata": {
    "collapsed": true
   },
   "outputs": [],
   "source": []
  },
  {
   "cell_type": "code",
   "execution_count": null,
   "metadata": {
    "collapsed": true
   },
   "outputs": [],
   "source": [
    "remove_link_perc = 0.1\n",
    "M_hat, l_miss = remove_percentage_links(ven_adj, remove_link_perc)"
   ]
  },
  {
   "cell_type": "code",
   "execution_count": null,
   "metadata": {
    "collapsed": true
   },
   "outputs": [],
   "source": [
    "p_adj, cost = get_link_probabilities(M_hat)"
   ]
  },
  {
   "cell_type": "code",
   "execution_count": null,
   "metadata": {
    "collapsed": true
   },
   "outputs": [],
   "source": [
    "df = sort_probabilities(p_adj, M_hat)"
   ]
  },
  {
   "cell_type": "code",
   "execution_count": null,
   "metadata": {
    "collapsed": true
   },
   "outputs": [],
   "source": [
    "R = fill_miss_links(df, M_hat, l_miss, 0)"
   ]
  },
  {
   "cell_type": "markdown",
   "metadata": {
    "collapsed": true
   },
   "source": [
    "# Caro Code"
   ]
  },
  {
   "cell_type": "code",
   "execution_count": null,
   "metadata": {
    "collapsed": true
   },
   "outputs": [],
   "source": []
  }
 ],
 "metadata": {
  "kernelspec": {
   "display_name": "Python 3",
   "language": "python",
   "name": "python3"
  },
  "language_info": {
   "codemirror_mode": {
    "name": "ipython",
    "version": 3
   },
   "file_extension": ".py",
   "mimetype": "text/x-python",
   "name": "python",
   "nbconvert_exporter": "python",
   "pygments_lexer": "ipython3",
   "version": "3.6.1"
  }
 },
 "nbformat": 4,
 "nbformat_minor": 2
}
