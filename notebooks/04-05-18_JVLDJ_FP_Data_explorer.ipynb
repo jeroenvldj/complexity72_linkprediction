{
 "cells": [
  {
   "cell_type": "code",
   "execution_count": 1,
   "metadata": {
    "collapsed": true
   },
   "outputs": [],
   "source": [
    "import pandas as pd"
   ]
  },
  {
   "cell_type": "code",
   "execution_count": 13,
   "metadata": {
    "collapsed": true
   },
   "outputs": [],
   "source": [
    "df = pd.read_csv('../../../../Data/Venezuelan_Banks/banks_asset_200506.txt', sep=';')"
   ]
  },
  {
   "cell_type": "code",
   "execution_count": 14,
   "metadata": {},
   "outputs": [
    {
     "data": {
      "text/plain": [
       "['ID', 'Feature', 'weight', 'time']"
      ]
     },
     "execution_count": 14,
     "metadata": {},
     "output_type": "execute_result"
    }
   ],
   "source": [
    "list(df)"
   ]
  },
  {
   "cell_type": "code",
   "execution_count": 15,
   "metadata": {},
   "outputs": [
    {
     "data": {
      "text/html": [
       "<div>\n",
       "<style>\n",
       "    .dataframe thead tr:only-child th {\n",
       "        text-align: right;\n",
       "    }\n",
       "\n",
       "    .dataframe thead th {\n",
       "        text-align: left;\n",
       "    }\n",
       "\n",
       "    .dataframe tbody tr th {\n",
       "        vertical-align: top;\n",
       "    }\n",
       "</style>\n",
       "<table border=\"1\" class=\"dataframe\">\n",
       "  <thead>\n",
       "    <tr style=\"text-align: right;\">\n",
       "      <th></th>\n",
       "      <th>ID</th>\n",
       "      <th>Feature</th>\n",
       "      <th>weight</th>\n",
       "      <th>time</th>\n",
       "    </tr>\n",
       "  </thead>\n",
       "  <tbody>\n",
       "    <tr>\n",
       "      <th>0</th>\n",
       "      <td>B117</td>\n",
       "      <td>TAsset</td>\n",
       "      <td>6406</td>\n",
       "      <td>200506</td>\n",
       "    </tr>\n",
       "    <tr>\n",
       "      <th>1</th>\n",
       "      <td>B111</td>\n",
       "      <td>TAsset</td>\n",
       "      <td>4488338</td>\n",
       "      <td>200506</td>\n",
       "    </tr>\n",
       "    <tr>\n",
       "      <th>2</th>\n",
       "      <td>B107</td>\n",
       "      <td>TAsset</td>\n",
       "      <td>924953</td>\n",
       "      <td>200506</td>\n",
       "    </tr>\n",
       "    <tr>\n",
       "      <th>3</th>\n",
       "      <td>B104</td>\n",
       "      <td>TAsset</td>\n",
       "      <td>709868</td>\n",
       "      <td>200506</td>\n",
       "    </tr>\n",
       "    <tr>\n",
       "      <th>4</th>\n",
       "      <td>B101</td>\n",
       "      <td>TAsset</td>\n",
       "      <td>9474726</td>\n",
       "      <td>200506</td>\n",
       "    </tr>\n",
       "  </tbody>\n",
       "</table>\n",
       "</div>"
      ],
      "text/plain": [
       "     ID Feature   weight    time\n",
       "0  B117  TAsset     6406  200506\n",
       "1  B111  TAsset  4488338  200506\n",
       "2  B107  TAsset   924953  200506\n",
       "3  B104  TAsset   709868  200506\n",
       "4  B101  TAsset  9474726  200506"
      ]
     },
     "execution_count": 15,
     "metadata": {},
     "output_type": "execute_result"
    }
   ],
   "source": [
    "df.head()"
   ]
  },
  {
   "cell_type": "code",
   "execution_count": 17,
   "metadata": {},
   "outputs": [
    {
     "data": {
      "text/plain": [
       "B4      20\n",
       "B101    20\n",
       "B31     20\n",
       "B120    20\n",
       "B79     20\n",
       "B111    20\n",
       "B46     20\n",
       "B2      20\n",
       "B13     20\n",
       "B135    20\n",
       "B53     20\n",
       "B121    20\n",
       "B127    20\n",
       "B27     20\n",
       "B37     20\n",
       "B107    20\n",
       "B144    20\n",
       "B145    20\n",
       "B89     20\n",
       "B126    20\n",
       "B52     20\n",
       "B55     20\n",
       "B73     20\n",
       "B62     20\n",
       "B74     20\n",
       "B69     20\n",
       "B117    20\n",
       "B36     20\n",
       "B49     20\n",
       "B45     20\n",
       "B34     20\n",
       "B91     20\n",
       "B72     20\n",
       "B81     20\n",
       "B33     20\n",
       "B86     20\n",
       "B29     20\n",
       "B77     20\n",
       "B43     20\n",
       "B41     20\n",
       "B104    20\n",
       "B16     20\n",
       "B84     20\n",
       "B75     20\n",
       "B39     20\n",
       "B83     20\n",
       "B118    20\n",
       "Name: ID, dtype: int64"
      ]
     },
     "execution_count": 17,
     "metadata": {},
     "output_type": "execute_result"
    }
   ],
   "source": [
    "df.ID.value_counts()"
   ]
  },
  {
   "cell_type": "code",
   "execution_count": 9,
   "metadata": {},
   "outputs": [
    {
     "data": {
      "text/plain": [
       "(836005, 4)"
      ]
     },
     "execution_count": 9,
     "metadata": {},
     "output_type": "execute_result"
    }
   ],
   "source": [
    "df.shape"
   ]
  },
  {
   "cell_type": "code",
   "execution_count": null,
   "metadata": {
    "collapsed": true
   },
   "outputs": [],
   "source": []
  },
  {
   "cell_type": "code",
   "execution_count": null,
   "metadata": {
    "collapsed": true
   },
   "outputs": [],
   "source": []
  },
  {
   "cell_type": "code",
   "execution_count": null,
   "metadata": {
    "collapsed": true
   },
   "outputs": [],
   "source": []
  },
  {
   "cell_type": "code",
   "execution_count": null,
   "metadata": {
    "collapsed": true
   },
   "outputs": [],
   "source": []
  },
  {
   "cell_type": "code",
   "execution_count": null,
   "metadata": {
    "collapsed": true
   },
   "outputs": [],
   "source": []
  },
  {
   "cell_type": "code",
   "execution_count": null,
   "metadata": {
    "collapsed": true
   },
   "outputs": [],
   "source": []
  },
  {
   "cell_type": "code",
   "execution_count": null,
   "metadata": {
    "collapsed": true
   },
   "outputs": [],
   "source": [
    "# user, productid, rating, timestamp"
   ]
  },
  {
   "cell_type": "code",
   "execution_count": 21,
   "metadata": {},
   "outputs": [
    {
     "data": {
      "text/plain": [
       "array(['Mortgage_Loans', 'Treasury_Notes', 'Tourism_Credits',\n",
       "       'Commercial_Credits', 'Credit_Cards', 'TAsset', 'Other_Credits',\n",
       "       'Manufacturing_Credits', 'Public_National_Debt', 'Vehicles',\n",
       "       'Microcredits', 'TLoans', 'Other_Securities', 'Private_Securities',\n",
       "       'RLoans', 'Treasury_Bonds', 'Agriculture_Credits', 'BCV_Bonds',\n",
       "       'Agriculture_Bonds', 'Cash'], dtype=object)"
      ]
     },
     "execution_count": 21,
     "metadata": {},
     "output_type": "execute_result"
    }
   ],
   "source": [
    "df.Feature.unique()"
   ]
  },
  {
   "cell_type": "code",
   "execution_count": 22,
   "metadata": {},
   "outputs": [
    {
     "data": {
      "text/plain": [
       "Agriculture_Credits      48\n",
       "TAsset                   48\n",
       "BCV_Bonds                48\n",
       "Mortgage_Loans           48\n",
       "Agriculture_Bonds        48\n",
       "Other_Securities         48\n",
       "Credit_Cards             48\n",
       "Treasury_Bonds           48\n",
       "Vehicles                 48\n",
       "Commercial_Credits       48\n",
       "RLoans                   48\n",
       "Other_Credits            48\n",
       "Manufacturing_Credits    48\n",
       "Tourism_Credits          48\n",
       "Public_National_Debt     48\n",
       "Microcredits             48\n",
       "Treasury_Notes           48\n",
       "Cash                     48\n",
       "Private_Securities       48\n",
       "TLoans                   48\n",
       "Name: Feature, dtype: int64"
      ]
     },
     "execution_count": 22,
     "metadata": {},
     "output_type": "execute_result"
    }
   ],
   "source": [
    "df.Feature.value_counts()"
   ]
  },
  {
   "cell_type": "code",
   "execution_count": 23,
   "metadata": {},
   "outputs": [
    {
     "data": {
      "text/plain": [
       "B49     20\n",
       "B145    20\n",
       "B73     20\n",
       "B45     20\n",
       "B2      20\n",
       "B89     20\n",
       "B33     20\n",
       "B52     20\n",
       "B83     20\n",
       "B39     20\n",
       "B21     20\n",
       "B46     20\n",
       "B62     20\n",
       "B27     20\n",
       "B77     20\n",
       "B127    20\n",
       "B121    20\n",
       "B135    20\n",
       "B104    20\n",
       "B118    20\n",
       "B132    20\n",
       "B13     20\n",
       "B101    20\n",
       "B41     20\n",
       "B91     20\n",
       "B75     20\n",
       "B117    20\n",
       "B55     20\n",
       "B36     20\n",
       "B37     20\n",
       "B4      20\n",
       "B84     20\n",
       "B16     20\n",
       "B31     20\n",
       "B111    20\n",
       "B74     20\n",
       "B34     20\n",
       "B120    20\n",
       "B29     20\n",
       "B53     20\n",
       "B126    20\n",
       "B72     20\n",
       "B107    20\n",
       "B43     20\n",
       "B86     20\n",
       "B69     20\n",
       "B144    20\n",
       "B79     20\n",
       "Name: ID, dtype: int64"
      ]
     },
     "execution_count": 23,
     "metadata": {},
     "output_type": "execute_result"
    }
   ],
   "source": [
    "df.ID.value_counts()"
   ]
  },
  {
   "cell_type": "code",
   "execution_count": 24,
   "metadata": {
    "collapsed": true
   },
   "outputs": [],
   "source": [
    "df_slim = df[df.weight != 0]"
   ]
  },
  {
   "cell_type": "code",
   "execution_count": 26,
   "metadata": {},
   "outputs": [
    {
     "data": {
      "text/plain": [
       "TAsset                  48\n",
       "Cash                    48\n",
       "TLoans                  45\n",
       "Commercial_Credits      43\n",
       "Microcredits            34\n",
       "Credit_Cards            34\n",
       "Vehicles                33\n",
       "Private_Securities      33\n",
       "Agriculture_Credits     32\n",
       "Mortgage_Loans          31\n",
       "RLoans                  31\n",
       "BCV_Bonds               31\n",
       "Public_National_Debt    30\n",
       "Treasury_Notes          13\n",
       "Other_Securities        12\n",
       "Name: Feature, dtype: int64"
      ]
     },
     "execution_count": 26,
     "metadata": {},
     "output_type": "execute_result"
    }
   ],
   "source": [
    "df_slim.Feature.value_counts()"
   ]
  },
  {
   "cell_type": "markdown",
   "metadata": {
    "collapsed": true
   },
   "source": [
    "http://jmcauley.ucsd.edu/data/amazon/"
   ]
  }
 ],
 "metadata": {
  "kernelspec": {
   "display_name": "Python 3",
   "language": "python",
   "name": "python3"
  },
  "language_info": {
   "codemirror_mode": {
    "name": "ipython",
    "version": 3
   },
   "file_extension": ".py",
   "mimetype": "text/x-python",
   "name": "python",
   "nbconvert_exporter": "python",
   "pygments_lexer": "ipython3",
   "version": "3.6.1"
  }
 },
 "nbformat": 4,
 "nbformat_minor": 2
}
