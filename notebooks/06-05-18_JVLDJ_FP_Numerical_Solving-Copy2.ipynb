{
 "cells": [
  {
   "cell_type": "markdown",
   "metadata": {},
   "source": [
    "Load some packages "
   ]
  },
  {
   "cell_type": "code",
   "execution_count": 1,
   "metadata": {
    "collapsed": true
   },
   "outputs": [],
   "source": [
    "%run preample.ipy"
   ]
  },
  {
   "cell_type": "markdown",
   "metadata": {},
   "source": [
    "Import specific functions "
   ]
  },
  {
   "cell_type": "code",
   "execution_count": 2,
   "metadata": {
    "collapsed": true
   },
   "outputs": [],
   "source": [
    "from Utilities import *\n",
    "from BiCM import *"
   ]
  },
  {
   "cell_type": "markdown",
   "metadata": {},
   "source": [
    "# Numerical Solving BiCM\n",
    "    - Get degree sequences\n",
    "    - run numerical simulation to solve system\n",
    "    - calculate the link probabilities\n",
    "    "
   ]
  },
  {
   "cell_type": "code",
   "execution_count": 3,
   "metadata": {
    "collapsed": true
   },
   "outputs": [],
   "source": [
    "def get_degree_sequences(M_hat):\n",
    "    \n",
    "    degree_sequence_item = np.sum(M_hat,1)\n",
    "    degree_sequence_product = np.sum(M_hat,0)\n",
    "    degree_sequence = list(np.concatenate([degree_sequence_item, degree_sequence_product]))\n",
    "    n_rows = len(degree_sequence_item)\n",
    "    n_cols = len(degree_sequence_product)\n",
    "    return degree_sequence, n_rows, n_cols"
   ]
  },
  {
   "cell_type": "code",
   "execution_count": 4,
   "metadata": {
    "collapsed": true
   },
   "outputs": [],
   "source": [
    "def get_link_probabilities(M, solver = 'root'):\n",
    "    [degree_sequence, n_rows, n_cols] = get_degree_sequences(M)\n",
    "    bicm = bicm_leastSquares(degree_sequence, n_rows, n_cols)\n",
    "    if solver == 'root':\n",
    "        bicm.solve_root()\n",
    "    if solver == 'least_squares':\n",
    "        bicm.solve_least_squares()\n",
    "    if solver == 'trust_region':\n",
    "        bicm.solve_trust_regions()\n",
    "    bicm.generate_p_adjacency()\n",
    "    return bicm.p_adjacency, abs(np.sum(bicm.final_result))"
   ]
  },
  {
   "cell_type": "markdown",
   "metadata": {},
   "source": [
    "# WTW"
   ]
  },
  {
   "cell_type": "markdown",
   "metadata": {},
   "source": [
    "Link removal"
   ]
  },
  {
   "cell_type": "code",
   "execution_count": 5,
   "metadata": {
    "collapsed": true
   },
   "outputs": [],
   "source": [
    "def remove_links(A, frac = 0.1):\n",
    "    nonzero = zip(*np.nonzero(A))\n",
    "    len_nonzeros = len(list(nonzero))\n",
    "    nonzero = list(zip(*np.nonzero(A)))\n",
    "    N_links_remove = int(len_nonzeros*frac)\n",
    "    idx_to_remove = np.random.choice(len_nonzeros, N_links_remove, replace=False)\n",
    "\n",
    "    A_hat = A.copy()\n",
    "    for idx in idx_to_remove:\n",
    "        A_hat[nonzero[idx]] = 0\n",
    "    removed_links = [nonzero[i] for i in idx_to_remove]\n",
    "    return A_hat, removed_links\n",
    " "
   ]
  },
  {
   "cell_type": "code",
   "execution_count": 6,
   "metadata": {},
   "outputs": [
    {
     "name": "stdout",
     "output_type": "stream",
     "text": [
      "21257\n",
      "19132\n",
      "21257\n",
      "19132\n",
      "21257\n",
      "19132\n",
      "21257\n",
      "19132\n",
      "21257\n",
      "19132\n",
      "21257\n",
      "19132\n",
      "21257\n",
      "19132\n",
      "21257\n",
      "19132\n",
      "21257\n",
      "19132\n",
      "21257\n",
      "19132\n",
      "21257\n",
      "19132\n",
      "21257\n",
      "19132\n",
      "21257\n",
      "19132\n",
      "21257\n",
      "19132\n",
      "21257\n",
      "19132\n"
     ]
    }
   ],
   "source": [
    "adj = np.genfromtxt('../data/raw/Mcp_2000.dat')\n",
    "adj = adj.astype(int)\n",
    "np.savetxt('../data/intermediate/wtw/adjacency/wtw_2000.csv', adj)\n",
    "\n",
    "file_dir = '../data/intermediate/wtw/adjacency_link_removed/'\n",
    "for i in np.arange(15):\n",
    "    adj_removed = remove_links(adj)[0]\n",
    "    print(np.sum(adj))\n",
    "    print(np.sum(adj_removed))\n",
    "    np.savetxt(file_dir + 'wtw_2000_' + str(i) + '.csv', adj_removed)\n"
   ]
  },
  {
   "cell_type": "markdown",
   "metadata": {},
   "source": [
    "Solving"
   ]
  },
  {
   "cell_type": "code",
   "execution_count": null,
   "metadata": {},
   "outputs": [
    {
     "name": "stderr",
     "output_type": "stream",
     "text": [
      "\r",
      "  0%|          | 0/15 [00:00<?, ?it/s]"
     ]
    },
    {
     "name": "stdout",
     "output_type": "stream",
     "text": [
      "wtw_2000_5.csv\n",
      "solved 2.250977182427505e-12\n"
     ]
    },
    {
     "name": "stderr",
     "output_type": "stream",
     "text": [
      "\r",
      "  7%|▋         | 1/15 [00:03<00:53,  3.85s/it]"
     ]
    },
    {
     "name": "stdout",
     "output_type": "stream",
     "text": [
      "wtw_2000_9.csv\n",
      "solved 5.169198402654729e-13\n"
     ]
    },
    {
     "name": "stderr",
     "output_type": "stream",
     "text": [
      "\r",
      " 13%|█▎        | 2/15 [00:05<00:40,  3.10s/it]"
     ]
    },
    {
     "name": "stdout",
     "output_type": "stream",
     "text": [
      "wtw_2000_12.csv\n",
      "solved 5.928657564879813e-11\n"
     ]
    },
    {
     "name": "stderr",
     "output_type": "stream",
     "text": [
      "\r",
      " 20%|██        | 3/15 [00:06<00:30,  2.57s/it]"
     ]
    },
    {
     "name": "stdout",
     "output_type": "stream",
     "text": [
      "wtw_2000_10.csv\n",
      "solved 3.6481928589182644e-13\n"
     ]
    },
    {
     "name": "stderr",
     "output_type": "stream",
     "text": [
      "\r",
      " 27%|██▋       | 4/15 [00:07<00:24,  2.20s/it]"
     ]
    },
    {
     "name": "stdout",
     "output_type": "stream",
     "text": [
      "wtw_2000_7.csv\n",
      "solved 41.65564360725595\n"
     ]
    },
    {
     "name": "stderr",
     "output_type": "stream",
     "text": [
      "\r",
      " 33%|███▎      | 5/15 [00:36<01:41, 10.11s/it]"
     ]
    },
    {
     "name": "stdout",
     "output_type": "stream",
     "text": [
      "`xtol` termination condition is satisfied.\n",
      "Function evaluations 1571, initial cost 1.0461e+06, final cost 3.5641e+03, first-order optimality 1.16e+05.\n",
      "solvedls 155.8808747198356\n",
      "unsolved wtw_2000_7.csv\n",
      "wtw_2000_6.csv\n",
      "solved 5.154321414124752e-12\n"
     ]
    },
    {
     "name": "stderr",
     "output_type": "stream",
     "text": [
      "\r",
      " 40%|████      | 6/15 [00:37<01:07,  7.53s/it]"
     ]
    },
    {
     "name": "stdout",
     "output_type": "stream",
     "text": [
      "wtw_2000_4.csv\n",
      "solved 4.194089520126454e-12\n"
     ]
    },
    {
     "name": "stderr",
     "output_type": "stream",
     "text": [
      "\r",
      " 47%|████▋     | 7/15 [00:39<00:45,  5.68s/it]"
     ]
    },
    {
     "name": "stdout",
     "output_type": "stream",
     "text": [
      "wtw_2000_0.csv\n",
      "solved 38.82219104223227\n"
     ]
    },
    {
     "name": "stderr",
     "output_type": "stream",
     "text": [
      "\r",
      " 53%|█████▎    | 8/15 [01:09<01:30, 13.00s/it]"
     ]
    },
    {
     "name": "stdout",
     "output_type": "stream",
     "text": [
      "`xtol` termination condition is satisfied.\n",
      "Function evaluations 1414, initial cost 1.0291e+06, final cost 6.6567e+03, first-order optimality 4.91e+04.\n",
      "solvedls 556.773383328552\n",
      "unsolved wtw_2000_0.csv\n",
      "wtw_2000_8.csv\n",
      "solved 3.830935568771565e-12\n"
     ]
    },
    {
     "name": "stderr",
     "output_type": "stream",
     "text": [
      "\r",
      " 60%|██████    | 9/15 [01:10<00:57,  9.52s/it]"
     ]
    },
    {
     "name": "stdout",
     "output_type": "stream",
     "text": [
      "wtw_2000_3.csv\n",
      "solved 1.2564616014287822e-11\n"
     ]
    },
    {
     "name": "stderr",
     "output_type": "stream",
     "text": [
      "\r",
      " 67%|██████▋   | 10/15 [01:12<00:35,  7.06s/it]"
     ]
    },
    {
     "name": "stdout",
     "output_type": "stream",
     "text": [
      "wtw_2000_2.csv\n",
      "solved 1.5785150964120476e-12\n"
     ]
    },
    {
     "name": "stderr",
     "output_type": "stream",
     "text": [
      "\r",
      " 73%|███████▎  | 11/15 [01:13<00:21,  5.34s/it]"
     ]
    },
    {
     "name": "stdout",
     "output_type": "stream",
     "text": [
      "wtw_2000_13.csv\n",
      "solved 42.75546103160183\n",
      "The maximum number of function evaluations is exceeded.\n",
      "Function evaluations 16900, initial cost 1.0793e+06, final cost 7.7364e-10, first-order optimality 1.95e-03.\n",
      "solvedls 0.0002898093310488292\n"
     ]
    },
    {
     "name": "stderr",
     "output_type": "stream",
     "text": [
      "\r",
      " 80%|████████  | 12/15 [05:20<03:53, 77.88s/it]"
     ]
    },
    {
     "name": "stdout",
     "output_type": "stream",
     "text": [
      "wtw_2000_14.csv\n",
      "solved 149.31293065637539\n"
     ]
    },
    {
     "name": "stderr",
     "output_type": "stream",
     "text": [
      "\r",
      " 87%|████████▋ | 13/15 [05:53<02:08, 64.33s/it]"
     ]
    },
    {
     "name": "stdout",
     "output_type": "stream",
     "text": [
      "`xtol` termination condition is satisfied.\n",
      "Function evaluations 1637, initial cost 1.0788e+06, final cost 4.1644e+03, first-order optimality 1.29e+05.\n",
      "solvedls 44.19761213612094\n",
      "unsolved wtw_2000_14.csv\n",
      "wtw_2000_1.csv\n",
      "solved 39.37295128816676\n"
     ]
    },
    {
     "name": "stderr",
     "output_type": "stream",
     "text": [
      "\r",
      " 93%|█████████▎| 14/15 [06:14<00:51, 51.54s/it]"
     ]
    },
    {
     "name": "stdout",
     "output_type": "stream",
     "text": [
      "`xtol` termination condition is satisfied.\n",
      "Function evaluations 1617, initial cost 1.0640e+06, final cost 4.1669e+03, first-order optimality 1.63e+05.\n",
      "solvedls 247.63792638697913\n",
      "unsolved wtw_2000_1.csv\n",
      "wtw_2000_11.csv\n"
     ]
    }
   ],
   "source": [
    "\n",
    "import os\n",
    "file_dir = '../data/intermediate/wtw/adjacency_link_removed/'\n",
    "\n",
    "for file in tqdm(os.listdir(file_dir)):\n",
    "    print(file)\n",
    "    adj = np.loadtxt(file_dir + file).astype(int)\n",
    "    \n",
    "    original_path = '../data/intermediate/wtw/adjacency/wtw_2000.csv'\n",
    "    original_matrix = np.loadtxt(original_path)\n",
    "    num_removed_links = np.sum(original_matrix) - np.sum(adj)\n",
    "    \n",
    "    p_adj, cost = get_link_probabilities(adj)\n",
    "    print('solved', cost)\n",
    "    if cost > 1:\n",
    "        p_adj, cost = get_link_probabilities(adj, 'least_squares')\n",
    "        print('solvedls', cost)\n",
    "    if cost > 1:\n",
    "        print('unsolved', file)\n",
    "        continue\n",
    "    np.savetxt('../data/intermediate/wtw/probabilities_adjacency/' + file, p_adj)\n",
    "    assert cost < 1, 'numerical convergence problems'\n",
    "    df = sort_probabilities(p_adj, adj)\n",
    "    R = fill_miss_links(df, adj, num_removed_links, 0)\n",
    "    np.savetxt('../data/intermediate/wtw/adjacency_reconstructed/' + file, R)\n",
    "    np.savetxt('../data/intermediate/wtw/probabilities_adjacency/' + file, p_adj)\n",
    "    \n"
   ]
  },
  {
   "cell_type": "code",
   "execution_count": null,
   "metadata": {
    "collapsed": true
   },
   "outputs": [],
   "source": []
  }
 ],
 "metadata": {
  "kernelspec": {
   "display_name": "Python 3",
   "language": "python",
   "name": "python3"
  },
  "language_info": {
   "codemirror_mode": {
    "name": "ipython",
    "version": 3
   },
   "file_extension": ".py",
   "mimetype": "text/x-python",
   "name": "python",
   "nbconvert_exporter": "python",
   "pygments_lexer": "ipython3",
   "version": "3.6.1"
  }
 },
 "nbformat": 4,
 "nbformat_minor": 2
}
