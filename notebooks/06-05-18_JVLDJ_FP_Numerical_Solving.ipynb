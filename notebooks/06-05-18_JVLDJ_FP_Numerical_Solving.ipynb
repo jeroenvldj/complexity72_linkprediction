{
 "cells": [
  {
   "cell_type": "markdown",
   "metadata": {},
   "source": [
    "Load some packages "
   ]
  },
  {
   "cell_type": "code",
   "execution_count": 1,
   "metadata": {
    "collapsed": true
   },
   "outputs": [],
   "source": [
    "%run preample.ipy"
   ]
  },
  {
   "cell_type": "markdown",
   "metadata": {},
   "source": [
    "Import specific functions "
   ]
  },
  {
   "cell_type": "code",
   "execution_count": 2,
   "metadata": {
    "collapsed": true
   },
   "outputs": [],
   "source": [
    "from Utilities import *\n",
    "from BiCM import *"
   ]
  },
  {
   "cell_type": "markdown",
   "metadata": {},
   "source": [
    "# Numerical Solving BiCM\n",
    "    - Get degree sequences\n",
    "    - run numerical simulation to solve system\n",
    "    - calculate the link probabilities\n",
    "    "
   ]
  },
  {
   "cell_type": "code",
   "execution_count": 3,
   "metadata": {
    "collapsed": true
   },
   "outputs": [],
   "source": [
    "def get_degree_sequences(M_hat):\n",
    "    \n",
    "    degree_sequence_item = np.sum(M_hat,1)\n",
    "    degree_sequence_product = np.sum(M_hat,0)\n",
    "    degree_sequence = list(np.concatenate([degree_sequence_item, degree_sequence_product]))\n",
    "    n_rows = len(degree_sequence_item)\n",
    "    n_cols = len(degree_sequence_product)\n",
    "    return degree_sequence, n_rows, n_cols"
   ]
  },
  {
   "cell_type": "code",
   "execution_count": 4,
   "metadata": {
    "collapsed": true
   },
   "outputs": [],
   "source": [
    "def get_link_probabilities(M, solver = 'root'):\n",
    "    [degree_sequence, n_rows, n_cols] = get_degree_sequences(M)\n",
    "    bicm = bicm_leastSquares(degree_sequence, n_rows, n_cols)\n",
    "    if solver == 'root':\n",
    "        bicm.solve_root()\n",
    "    if solver == 'least_squares':\n",
    "        bicm.solve_least_squares()\n",
    "    bicm.generate_p_adjacency()\n",
    "    return bicm.p_adjacency, abs(np.sum(bicm.final_result))"
   ]
  },
  {
   "cell_type": "markdown",
   "metadata": {},
   "source": [
    "# Load Venezuelan Bank Adjacency"
   ]
  },
  {
   "cell_type": "code",
   "execution_count": 5,
   "metadata": {},
   "outputs": [
    {
     "name": "stderr",
     "output_type": "stream",
     "text": [
      "100%|██████████| 425/425 [02:12<00:00,  1.13s/it]\n"
     ]
    }
   ],
   "source": [
    "import os\n",
    "file_dir = '../data/intermediate/bank/adjacency_link_removed/'\n",
    "\n",
    "for file in tqdm(os.listdir(file_dir)):\n",
    "    adj = np.loadtxt(file_dir + file, delimiter=',').astype(int)\n",
    "    \n",
    "    original_path = '../data/intermediate/bank/adjacency/' + file[0:9] + file[14:20] + '.csv'\n",
    "    original_matrix = np.loadtxt(original_path, delimiter=',').astype(int)\n",
    "    num_removed_links = np.sum(original_matrix) - np.sum(adj)\n",
    "    \n",
    "    p_adj, cost = get_link_probabilities(adj)\n",
    "    if cost > 1:\n",
    "        p_adj, cost = get_link_probabilities(adj, 'least_squares')\n",
    "    if cost > 1:\n",
    "        continue\n",
    "    #assert cost < 1, 'numerical convergence problems'\n",
    "    df = sort_probabilities(p_adj, adj)\n",
    "    R = fill_miss_links(df, adj, num_removed_links, 0)\n",
    "    np.savetxt('../data/intermediate/bank/adjacency_reconstructed/' + file, R)\n",
    "    np.savetxt('../data/intermediate/bank/probabilities_adjacency/' + file, p_adj)\n",
    "    \n"
   ]
  },
  {
   "cell_type": "code",
   "execution_count": null,
   "metadata": {
    "collapsed": true
   },
   "outputs": [],
   "source": []
  }
 ],
 "metadata": {
  "kernelspec": {
   "display_name": "Python 3",
   "language": "python",
   "name": "python3"
  },
  "language_info": {
   "codemirror_mode": {
    "name": "ipython",
    "version": 3
   },
   "file_extension": ".py",
   "mimetype": "text/x-python",
   "name": "python",
   "nbconvert_exporter": "python",
   "pygments_lexer": "ipython3",
   "version": "3.6.1"
  }
 },
 "nbformat": 4,
 "nbformat_minor": 2
}
