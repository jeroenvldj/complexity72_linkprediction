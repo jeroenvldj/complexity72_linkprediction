{
 "cells": [
  {
   "cell_type": "markdown",
   "metadata": {},
   "source": [
    "Load some packages "
   ]
  },
  {
   "cell_type": "code",
   "execution_count": 1,
   "metadata": {
    "collapsed": true
   },
   "outputs": [],
   "source": [
    "%run preample.ipy"
   ]
  },
  {
   "cell_type": "markdown",
   "metadata": {},
   "source": [
    "Import specific functions "
   ]
  },
  {
   "cell_type": "code",
   "execution_count": 2,
   "metadata": {
    "collapsed": true
   },
   "outputs": [],
   "source": [
    "from Utilities import *\n",
    "from BiCM import *"
   ]
  },
  {
   "cell_type": "markdown",
   "metadata": {},
   "source": [
    "# Numerical Solving BiCM\n",
    "    - Get degree sequences\n",
    "    - run numerical simulation to solve system\n",
    "    - calculate the link probabilities\n",
    "    "
   ]
  },
  {
   "cell_type": "code",
   "execution_count": 3,
   "metadata": {
    "collapsed": true
   },
   "outputs": [],
   "source": [
    "def get_degree_sequences(M_hat):\n",
    "    \n",
    "    degree_sequence_item = np.sum(M_hat,1)\n",
    "    degree_sequence_product = np.sum(M_hat,0)\n",
    "    degree_sequence = list(np.concatenate([degree_sequence_item, degree_sequence_product]))\n",
    "    n_rows = len(degree_sequence_item)\n",
    "    n_cols = len(degree_sequence_product)\n",
    "    return degree_sequence, n_rows, n_cols"
   ]
  },
  {
   "cell_type": "code",
   "execution_count": 4,
   "metadata": {
    "collapsed": true
   },
   "outputs": [],
   "source": [
    "def get_link_probabilities(M, solver = 'root'):\n",
    "    [degree_sequence, n_rows, n_cols] = get_degree_sequences(M)\n",
    "    bicm = bicm_leastSquares(degree_sequence, n_rows, n_cols)\n",
    "    if solver == 'root':\n",
    "        bicm.solve_root()\n",
    "    if solver == 'least_squares':\n",
    "        bicm.solve_least_squares()\n",
    "    if solver == 'trust_region':\n",
    "        bicm.solve_trust_regions()\n",
    "    bicm.generate_p_adjacency()\n",
    "    return bicm.p_adjacency, abs(np.sum(bicm.final_result))"
   ]
  },
  {
   "cell_type": "markdown",
   "metadata": {},
   "source": [
    "# Movielens"
   ]
  },
  {
   "cell_type": "code",
   "execution_count": 5,
   "metadata": {},
   "outputs": [
    {
     "name": "stderr",
     "output_type": "stream",
     "text": [
      "\r",
      "  0%|          | 0/10 [00:00<?, ?it/s]"
     ]
    },
    {
     "name": "stdout",
     "output_type": "stream",
     "text": [
      "movielens_adjacency_unweighted_iter_9.csv\n",
      "solved 1437.7869088281318\n"
     ]
    },
    {
     "name": "stderr",
     "output_type": "stream",
     "text": [
      "\r",
      " 10%|█         | 1/10 [00:22<03:19, 22.11s/it]"
     ]
    },
    {
     "name": "stdout",
     "output_type": "stream",
     "text": [
      "`xtol` termination condition is satisfied.\n",
      "Function evaluations 678, initial cost 4.5057e+06, final cost 5.4438e+03, first-order optimality 5.71e+03.\n",
      "solvedls 123.90854761411191\n",
      "unsolved movielens_adjacency_unweighted_iter_9.csv\n",
      "movielens_adjacency_unweighted_iter_0.csv\n"
     ]
    },
    {
     "name": "stderr",
     "output_type": "stream",
     "text": [
      "\r",
      " 20%|██        | 2/10 [00:25<02:12, 16.53s/it]"
     ]
    },
    {
     "name": "stdout",
     "output_type": "stream",
     "text": [
      "solved 1.871021178888273e-11\n",
      "movielens_adjacency_unweighted_iter_1.csv\n"
     ]
    },
    {
     "name": "stderr",
     "output_type": "stream",
     "text": [
      "\r",
      " 30%|███       | 3/10 [00:29<01:28, 12.63s/it]"
     ]
    },
    {
     "name": "stdout",
     "output_type": "stream",
     "text": [
      "solved 4.574304384712592e-11\n",
      "movielens_adjacency_unweighted_iter_2.csv\n"
     ]
    },
    {
     "name": "stderr",
     "output_type": "stream",
     "text": [
      "\r",
      " 40%|████      | 4/10 [00:32<00:59,  9.87s/it]"
     ]
    },
    {
     "name": "stdout",
     "output_type": "stream",
     "text": [
      "solved 6.00321906055689e-11\n",
      "movielens_adjacency_unweighted_iter_3.csv\n",
      "solved 972.208153108333\n"
     ]
    },
    {
     "name": "stderr",
     "output_type": "stream",
     "text": [
      "\r",
      " 50%|█████     | 5/10 [00:53<01:06, 13.22s/it]"
     ]
    },
    {
     "name": "stdout",
     "output_type": "stream",
     "text": [
      "`xtol` termination condition is satisfied.\n",
      "Function evaluations 688, initial cost 4.3682e+06, final cost 5.4125e+03, first-order optimality 6.25e+03.\n",
      "solvedls 50.00618296888743\n",
      "unsolved movielens_adjacency_unweighted_iter_3.csv\n",
      "movielens_adjacency_unweighted_iter_6.csv\n",
      "solved 4651.750716235345\n"
     ]
    },
    {
     "name": "stderr",
     "output_type": "stream",
     "text": [
      "\r",
      " 60%|██████    | 6/10 [01:17<01:05, 16.29s/it]"
     ]
    },
    {
     "name": "stdout",
     "output_type": "stream",
     "text": [
      "`xtol` termination condition is satisfied.\n",
      "Function evaluations 727, initial cost 4.3965e+06, final cost 3.8801e+03, first-order optimality 7.73e+03.\n",
      "solvedls 121.96318732228764\n",
      "unsolved movielens_adjacency_unweighted_iter_6.csv\n",
      "movielens_adjacency_unweighted_iter_8.csv\n"
     ]
    },
    {
     "name": "stderr",
     "output_type": "stream",
     "text": [
      "\r",
      " 70%|███████   | 7/10 [01:20<00:37, 12.53s/it]"
     ]
    },
    {
     "name": "stdout",
     "output_type": "stream",
     "text": [
      "solved 6.321943390678721e-11\n",
      "movielens_adjacency_unweighted_iter_7.csv\n"
     ]
    },
    {
     "name": "stderr",
     "output_type": "stream",
     "text": [
      "\r",
      " 80%|████████  | 8/10 [01:23<00:19,  9.66s/it]"
     ]
    },
    {
     "name": "stdout",
     "output_type": "stream",
     "text": [
      "solved 3.9546145392743915e-13\n",
      "movielens_adjacency_unweighted_iter_4.csv\n"
     ]
    },
    {
     "name": "stderr",
     "output_type": "stream",
     "text": [
      "\r",
      " 90%|█████████ | 9/10 [01:27<00:07,  7.91s/it]"
     ]
    },
    {
     "name": "stdout",
     "output_type": "stream",
     "text": [
      "solved 2.636995320509916e-11\n",
      "movielens_adjacency_unweighted_iter_5.csv\n",
      "solved 448.7330841840209\n"
     ]
    },
    {
     "name": "stderr",
     "output_type": "stream",
     "text": [
      "\r",
      "100%|██████████| 10/10 [01:52<00:00, 12.91s/it]"
     ]
    },
    {
     "name": "stdout",
     "output_type": "stream",
     "text": [
      "`xtol` termination condition is satisfied.\n",
      "Function evaluations 817, initial cost 4.6683e+06, final cost 5.7506e+03, first-order optimality 2.79e+03.\n",
      "solvedls 18.071669689541153\n",
      "unsolved movielens_adjacency_unweighted_iter_5.csv\n"
     ]
    },
    {
     "name": "stderr",
     "output_type": "stream",
     "text": [
      "\n"
     ]
    }
   ],
   "source": [
    "import os\n",
    "file_dir = '../data/intermediate/movielens/adjacency_link_removed/'\n",
    "\n",
    "for file in tqdm(os.listdir(file_dir)):\n",
    "    print(file)\n",
    "    adj = np.loadtxt(file_dir + file, delimiter=',').astype(int)\n",
    "    \n",
    "    original_path = '../data/intermediate/movielens/adjacency/movielens_adjacency_unweighted.csv'\n",
    "    original_matrix = np.loadtxt(original_path, delimiter=',').astype(int)\n",
    "    num_removed_links = np.sum(original_matrix) - np.sum(adj)\n",
    "    \n",
    "    p_adj, cost = get_link_probabilities(adj)\n",
    "    print('solved', cost)\n",
    "    if cost > 1:\n",
    "        p_adj, cost = get_link_probabilities(adj, 'least_squares')\n",
    "        print('solvedls', cost)\n",
    "    if cost > 1:\n",
    "        print('unsolved', file)\n",
    "        continue\n",
    "    #np.savetxt('../data/intermediate/movielens/probabilities_adjacency/' + file, p_adj)\n",
    "    #assert cost < 1, 'numerical convergence problems'\n",
    "    #df = sort_probabilities(p_adj, adj)\n",
    "    #R = fill_miss_links(df, adj, num_removed_links, 0)\n",
    "    #np.savetxt('../data/intermediate/movielens/adjacency_reconstructed/' + file, R)\n",
    "    #np.savetxt('../data/intermediate/movielens/probabilities_adjacency/' + file, p_adj)\n",
    "    \n"
   ]
  },
  {
   "cell_type": "code",
   "execution_count": 6,
   "metadata": {},
   "outputs": [
    {
     "ename": "IndentationError",
     "evalue": "unexpected indent (<ipython-input-6-035a5f58e145>, line 2)",
     "output_type": "error",
     "traceback": [
      "\u001b[0;36m  File \u001b[0;32m\"<ipython-input-6-035a5f58e145>\"\u001b[0;36m, line \u001b[0;32m2\u001b[0m\n\u001b[0;31m    bicm = bicm_leastSquares(degree_sequence, n_rows, n_cols)\u001b[0m\n\u001b[0m    ^\u001b[0m\n\u001b[0;31mIndentationError\u001b[0m\u001b[0;31m:\u001b[0m unexpected indent\n"
     ]
    }
   ],
   "source": [
    "[degree_sequence, n_rows, n_cols] = get_degree_sequences(M)\n",
    "    bicm = bicm_leastSquares(degree_sequence, n_rows, n_cols)\n",
    "    bicm.solve_root()"
   ]
  },
  {
   "cell_type": "markdown",
   "metadata": {
    "collapsed": true
   },
   "source": [
    "now run with:"
   ]
  },
  {
   "cell_type": "code",
   "execution_count": 9,
   "metadata": {},
   "outputs": [
    {
     "name": "stdout",
     "output_type": "stream",
     "text": [
      "1437.7869088281318\n"
     ]
    },
    {
     "name": "stderr",
     "output_type": "stream",
     "text": [
      "../src/BiCM.py:242: FutureWarning: elementwise comparison failed; returning scalar instead, but in the future will perform elementwise comparison\n",
      "  elif initial_guess == 'random':\n"
     ]
    },
    {
     "name": "stdout",
     "output_type": "stream",
     "text": [
      "`xtol` termination condition is satisfied.\n",
      "Function evaluations 37, initial cost 8.1610e+06, final cost 2.8128e+05, first-order optimality 3.81e+05.\n",
      "`xtol` termination condition is satisfied.\n",
      "Function evaluations 27, initial cost 2.8153e+05, final cost 2.8149e+05, first-order optimality 3.98e+05.\n"
     ]
    }
   ],
   "source": [
    "file_dir = '../data/intermediate/movielens/adjacency_link_removed/'\n",
    "file = 'movielens_adjacency_unweighted_iter_9.csv'\n",
    "M = np.loadtxt(file_dir + file, delimiter=',').astype(int)\n",
    "[degree_sequence, n_rows, n_cols] = get_degree_sequences(M)\n",
    "bicm = bicm_leastSquares(degree_sequence, n_rows, n_cols)\n",
    "bicm.solve_root()\n",
    "#bicm.solve_least_squares()\n",
    "print(abs(np.sum(bicm.final_result)))\n",
    "x0_r = np.concatenate([np.unique(bicm.x),np.unique(bicm.y)])\n",
    "\n",
    "\n",
    "bicm.solve_least_squares(initial_guess = x0_r)\n",
    "x0_r = np.concatenate([np.unique(bicm.x),np.unique(bicm.y)])\n",
    "bicm.solve_least_squares(initial_guess = x0_r)"
   ]
  },
  {
   "cell_type": "code",
   "execution_count": null,
   "metadata": {
    "collapsed": true
   },
   "outputs": [],
   "source": []
  },
  {
   "cell_type": "code",
   "execution_count": null,
   "metadata": {
    "collapsed": true
   },
   "outputs": [],
   "source": []
  },
  {
   "cell_type": "markdown",
   "metadata": {
    "collapsed": true
   },
   "source": [
    "# Unsolved Adjacencies"
   ]
  },
  {
   "cell_type": "code",
   "execution_count": 11,
   "metadata": {},
   "outputs": [
    {
     "data": {
      "text/plain": [
       "'movielens_adjacency_unweighted_iter_5.csv'"
      ]
     },
     "execution_count": 11,
     "metadata": {},
     "output_type": "execute_result"
    }
   ],
   "source": [
    "9, 3, 5,6"
   ]
  },
  {
   "cell_type": "code",
   "execution_count": null,
   "metadata": {
    "collapsed": true
   },
   "outputs": [],
   "source": [
    "3,5,6"
   ]
  },
  {
   "cell_type": "code",
   "execution_count": 15,
   "metadata": {},
   "outputs": [
    {
     "data": {
      "text/plain": [
       "'5'"
      ]
     },
     "execution_count": 15,
     "metadata": {},
     "output_type": "execute_result"
    }
   ],
   "source": [
    "file[36]"
   ]
  },
  {
   "cell_type": "code",
   "execution_count": null,
   "metadata": {
    "collapsed": true
   },
   "outputs": [],
   "source": []
  }
 ],
 "metadata": {
  "kernelspec": {
   "display_name": "Python 3",
   "language": "python",
   "name": "python3"
  },
  "language_info": {
   "codemirror_mode": {
    "name": "ipython",
    "version": 3
   },
   "file_extension": ".py",
   "mimetype": "text/x-python",
   "name": "python",
   "nbconvert_exporter": "python",
   "pygments_lexer": "ipython3",
   "version": "3.6.1"
  }
 },
 "nbformat": 4,
 "nbformat_minor": 2
}
